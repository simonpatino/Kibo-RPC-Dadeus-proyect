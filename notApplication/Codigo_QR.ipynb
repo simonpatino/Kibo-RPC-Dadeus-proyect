{
  "cells": [
    {
      "cell_type": "markdown",
      "metadata": {
        "id": "view-in-github",
        "colab_type": "text"
      },
      "source": [
        "<a href=\"https://colab.research.google.com/github/simonpatino/Kibo-RPC-Dadeus-proyect/blob/master/notApplication/Codigo_QR.ipynb\" target=\"_parent\"><img src=\"https://colab.research.google.com/assets/colab-badge.svg\" alt=\"Open In Colab\"/></a>"
      ]
    },
    {
      "cell_type": "markdown",
      "metadata": {
        "id": "wU3gmBCqQwie"
      },
      "source": [
        "# Make a code to read a QR CODE from different angles, The version 'opencv-contrib:4.5.3.0'  must be used  (https://note.nkmk.me/en/python-opencv-qrcode/). Show us examples"
      ]
    },
    {
      "cell_type": "code",
      "source": [],
      "metadata": {
        "id": "KX-uNLzXn65g"
      },
      "execution_count": null,
      "outputs": []
    },
    {
      "cell_type": "code",
      "execution_count": null,
      "metadata": {
        "colab": {
          "base_uri": "https://localhost:8080/",
          "height": 54
        },
        "id": "rIQ8zQk3RSRx",
        "outputId": "3d942f48-883d-4c49-8837-ddcb8fa82412"
      },
      "outputs": [
        {
          "data": {
            "application/vnd.google.colaboratory.intrinsic+json": {
              "type": "string"
            },
            "text/plain": [
              "'\\nDowload the png https://raw.githubusercontent.com/nkmk/python-snippets/156110aaf3a38090a1d366c17803c23753bee342/notebook/data/src/qrcode.png and load in drive\\n\\nfrom google.colab import drive\\ndrive.mount(\"/content/drive\")\\n%cd /content/drive/MyDrive/\\n%ls -l\\n'"
            ]
          },
          "execution_count": 5,
          "metadata": {},
          "output_type": "execute_result"
        }
      ],
      "source": [
        "#Skip\n",
        "\"\"\"\n",
        "Dowload the png https://raw.githubusercontent.com/nkmk/python-snippets/156110aaf3a38090a1d366c17803c23753bee342/notebook/data/src/qrcode.png and load in drive\n",
        "\n",
        "from google.colab import drive\n",
        "drive.mount(\"/content/drive\")\n",
        "%cd /content/drive/MyDrive/\n",
        "%ls -l\n",
        "\"\"\""
      ]
    },
    {
      "cell_type": "code",
      "execution_count": null,
      "metadata": {
        "colab": {
          "base_uri": "https://localhost:8080/"
        },
        "id": "aes4TaGFT6Kc",
        "outputId": "ae43fee4-64e7-4ade-9c9e-cf3b74cbfd57"
      },
      "outputs": [
        {
          "output_type": "stream",
          "name": "stdout",
          "text": [
            "Get:1 https://cloud.r-project.org/bin/linux/ubuntu jammy-cran40/ InRelease [3,626 B]\n",
            "Get:2 https://developer.download.nvidia.com/compute/cuda/repos/ubuntu2204/x86_64  InRelease [1,581 B]\n",
            "Hit:3 http://archive.ubuntu.com/ubuntu jammy InRelease\n",
            "Get:4 http://archive.ubuntu.com/ubuntu jammy-updates InRelease [119 kB]\n",
            "Get:5 http://security.ubuntu.com/ubuntu jammy-security InRelease [110 kB]\n",
            "Hit:6 https://ppa.launchpadcontent.net/c2d4u.team/c2d4u4.0+/ubuntu jammy InRelease\n",
            "Get:7 https://developer.download.nvidia.com/compute/cuda/repos/ubuntu2204/x86_64  Packages [808 kB]\n",
            "Hit:8 https://ppa.launchpadcontent.net/deadsnakes/ppa/ubuntu jammy InRelease\n",
            "Hit:9 https://ppa.launchpadcontent.net/graphics-drivers/ppa/ubuntu jammy InRelease\n",
            "Hit:10 http://archive.ubuntu.com/ubuntu jammy-backports InRelease\n",
            "Hit:11 https://ppa.launchpadcontent.net/ubuntugis/ppa/ubuntu jammy InRelease\n",
            "Get:12 http://security.ubuntu.com/ubuntu jammy-security/main amd64 Packages [1,691 kB]\n",
            "Get:13 http://archive.ubuntu.com/ubuntu jammy-updates/multiverse amd64 Packages [61.3 kB]\n",
            "Get:14 http://archive.ubuntu.com/ubuntu jammy-updates/main amd64 Packages [1,974 kB]\n",
            "Get:15 http://security.ubuntu.com/ubuntu jammy-security/multiverse amd64 Packages [44.7 kB]\n",
            "Get:16 http://security.ubuntu.com/ubuntu jammy-security/universe amd64 Packages [1,082 kB]\n",
            "Get:17 http://security.ubuntu.com/ubuntu jammy-security/restricted amd64 Packages [2,135 kB]\n",
            "Get:18 http://archive.ubuntu.com/ubuntu jammy-updates/restricted amd64 Packages [2,176 kB]\n",
            "Get:19 http://archive.ubuntu.com/ubuntu jammy-updates/universe amd64 Packages [1,375 kB]\n",
            "Fetched 11.6 MB in 4s (3,042 kB/s)\n",
            "Reading package lists... Done\n",
            "Building dependency tree... Done\n",
            "Reading state information... Done\n",
            "46 packages can be upgraded. Run 'apt list --upgradable' to see them.\n",
            "Reading package lists... Done\n",
            "Building dependency tree... Done\n",
            "Reading state information... Done\n",
            "The following additional packages will be installed:\n",
            "  fonts-droid-fallback fonts-noto-mono fonts-urw-base35 ghostscript gsfonts imagemagick-6-common\n",
            "  libdjvulibre-text libdjvulibre21 libfftw3-double3 libgs9 libgs9-common libidn12 libijs-0.35\n",
            "  libjbig2dec0 libjxr-tools libjxr0 liblqr-1-0 libmagickcore-6.q16-6 libmagickcore-6.q16-6-extra\n",
            "  libmagickwand-6.q16-6 libv4l-0 libv4lconvert0 libwmflite-0.2-7 poppler-data\n",
            "Suggested packages:\n",
            "  fonts-noto fonts-freefont-otf | fonts-freefont-ttf fonts-texgyre ghostscript-x libfftw3-bin\n",
            "  libfftw3-dev inkscape poppler-utils fonts-japanese-mincho | fonts-ipafont-mincho\n",
            "  fonts-japanese-gothic | fonts-ipafont-gothic fonts-arphic-ukai fonts-arphic-uming fonts-nanum\n",
            "The following NEW packages will be installed:\n",
            "  fonts-droid-fallback fonts-noto-mono fonts-urw-base35 ghostscript gsfonts imagemagick-6-common\n",
            "  libdjvulibre-text libdjvulibre21 libfftw3-double3 libgs9 libgs9-common libidn12 libijs-0.35\n",
            "  libjbig2dec0 libjxr-tools libjxr0 liblqr-1-0 libmagickcore-6.q16-6 libmagickcore-6.q16-6-extra\n",
            "  libmagickwand-6.q16-6 libv4l-0 libv4lconvert0 libwmflite-0.2-7 libzbar0 poppler-data\n",
            "0 upgraded, 25 newly installed, 0 to remove and 46 not upgraded.\n",
            "Need to get 24.1 MB of archives.\n",
            "After this operation, 82.6 MB of additional disk space will be used.\n",
            "Get:1 http://archive.ubuntu.com/ubuntu jammy/main amd64 fonts-droid-fallback all 1:6.0.1r16-1.1build1 [1,805 kB]\n",
            "Get:2 http://archive.ubuntu.com/ubuntu jammy/main amd64 libfftw3-double3 amd64 3.3.8-2ubuntu8 [770 kB]\n",
            "Get:3 http://archive.ubuntu.com/ubuntu jammy/universe amd64 liblqr-1-0 amd64 0.4.2-2.1 [27.7 kB]\n",
            "Get:4 http://archive.ubuntu.com/ubuntu jammy-updates/universe amd64 imagemagick-6-common all 8:6.9.11.60+dfsg-1.3ubuntu0.22.04.3 [63.6 kB]\n",
            "Get:5 http://archive.ubuntu.com/ubuntu jammy-updates/universe amd64 libmagickcore-6.q16-6 amd64 8:6.9.11.60+dfsg-1.3ubuntu0.22.04.3 [1,788 kB]\n",
            "Get:6 http://archive.ubuntu.com/ubuntu jammy-updates/universe amd64 libmagickwand-6.q16-6 amd64 8:6.9.11.60+dfsg-1.3ubuntu0.22.04.3 [328 kB]\n",
            "Get:7 http://archive.ubuntu.com/ubuntu jammy/main amd64 poppler-data all 0.4.11-1 [2,171 kB]\n",
            "Get:8 http://archive.ubuntu.com/ubuntu jammy/main amd64 fonts-noto-mono all 20201225-1build1 [397 kB]\n",
            "Get:9 http://archive.ubuntu.com/ubuntu jammy/main amd64 fonts-urw-base35 all 20200910-1 [6,367 kB]\n",
            "Get:10 http://archive.ubuntu.com/ubuntu jammy-updates/main amd64 libgs9-common all 9.55.0~dfsg1-0ubuntu5.6 [751 kB]\n",
            "Get:11 http://archive.ubuntu.com/ubuntu jammy-updates/main amd64 libidn12 amd64 1.38-4ubuntu1 [60.0 kB]\n",
            "Get:12 http://archive.ubuntu.com/ubuntu jammy/main amd64 libijs-0.35 amd64 0.35-15build2 [16.5 kB]\n",
            "Get:13 http://archive.ubuntu.com/ubuntu jammy/main amd64 libjbig2dec0 amd64 0.19-3build2 [64.7 kB]\n",
            "Get:14 http://archive.ubuntu.com/ubuntu jammy-updates/main amd64 libgs9 amd64 9.55.0~dfsg1-0ubuntu5.6 [5,031 kB]\n",
            "Get:15 http://archive.ubuntu.com/ubuntu jammy-updates/main amd64 ghostscript amd64 9.55.0~dfsg1-0ubuntu5.6 [49.4 kB]\n",
            "Get:16 http://archive.ubuntu.com/ubuntu jammy/universe amd64 gsfonts all 1:8.11+urwcyr1.0.7~pre44-4.5 [3,120 kB]\n",
            "Get:17 http://archive.ubuntu.com/ubuntu jammy/main amd64 libdjvulibre-text all 3.5.28-2build2 [50.9 kB]\n",
            "Get:18 http://archive.ubuntu.com/ubuntu jammy/main amd64 libdjvulibre21 amd64 3.5.28-2build2 [624 kB]\n",
            "Get:19 http://archive.ubuntu.com/ubuntu jammy/universe amd64 libjxr0 amd64 1.2~git20170615.f752187-5 [174 kB]\n",
            "Get:20 http://archive.ubuntu.com/ubuntu jammy/universe amd64 libjxr-tools amd64 1.2~git20170615.f752187-5 [16.0 kB]\n",
            "Get:21 http://archive.ubuntu.com/ubuntu jammy/main amd64 libwmflite-0.2-7 amd64 0.2.12-5ubuntu1 [68.9 kB]\n",
            "Get:22 http://archive.ubuntu.com/ubuntu jammy-updates/universe amd64 libmagickcore-6.q16-6-extra amd64 8:6.9.11.60+dfsg-1.3ubuntu0.22.04.3 [70.1 kB]\n",
            "Get:23 http://archive.ubuntu.com/ubuntu jammy/main amd64 libv4lconvert0 amd64 1.22.1-2build1 [82.4 kB]\n",
            "Get:24 http://archive.ubuntu.com/ubuntu jammy/main amd64 libv4l-0 amd64 1.22.1-2build1 [44.9 kB]\n",
            "Get:25 http://archive.ubuntu.com/ubuntu jammy/universe amd64 libzbar0 amd64 0.23.92-4build2 [121 kB]\n",
            "Fetched 24.1 MB in 3s (7,868 kB/s)\n",
            "Selecting previously unselected package fonts-droid-fallback.\n",
            "(Reading database ... 121752 files and directories currently installed.)\n",
            "Preparing to unpack .../00-fonts-droid-fallback_1%3a6.0.1r16-1.1build1_all.deb ...\n",
            "Unpacking fonts-droid-fallback (1:6.0.1r16-1.1build1) ...\n",
            "Selecting previously unselected package libfftw3-double3:amd64.\n",
            "Preparing to unpack .../01-libfftw3-double3_3.3.8-2ubuntu8_amd64.deb ...\n",
            "Unpacking libfftw3-double3:amd64 (3.3.8-2ubuntu8) ...\n",
            "Selecting previously unselected package liblqr-1-0:amd64.\n",
            "Preparing to unpack .../02-liblqr-1-0_0.4.2-2.1_amd64.deb ...\n",
            "Unpacking liblqr-1-0:amd64 (0.4.2-2.1) ...\n",
            "Selecting previously unselected package imagemagick-6-common.\n",
            "Preparing to unpack .../03-imagemagick-6-common_8%3a6.9.11.60+dfsg-1.3ubuntu0.22.04.3_all.deb ...\n",
            "Unpacking imagemagick-6-common (8:6.9.11.60+dfsg-1.3ubuntu0.22.04.3) ...\n",
            "Selecting previously unselected package libmagickcore-6.q16-6:amd64.\n",
            "Preparing to unpack .../04-libmagickcore-6.q16-6_8%3a6.9.11.60+dfsg-1.3ubuntu0.22.04.3_amd64.deb ...\n",
            "Unpacking libmagickcore-6.q16-6:amd64 (8:6.9.11.60+dfsg-1.3ubuntu0.22.04.3) ...\n",
            "Selecting previously unselected package libmagickwand-6.q16-6:amd64.\n",
            "Preparing to unpack .../05-libmagickwand-6.q16-6_8%3a6.9.11.60+dfsg-1.3ubuntu0.22.04.3_amd64.deb ...\n",
            "Unpacking libmagickwand-6.q16-6:amd64 (8:6.9.11.60+dfsg-1.3ubuntu0.22.04.3) ...\n",
            "Selecting previously unselected package poppler-data.\n",
            "Preparing to unpack .../06-poppler-data_0.4.11-1_all.deb ...\n",
            "Unpacking poppler-data (0.4.11-1) ...\n",
            "Selecting previously unselected package fonts-noto-mono.\n",
            "Preparing to unpack .../07-fonts-noto-mono_20201225-1build1_all.deb ...\n",
            "Unpacking fonts-noto-mono (20201225-1build1) ...\n",
            "Selecting previously unselected package fonts-urw-base35.\n",
            "Preparing to unpack .../08-fonts-urw-base35_20200910-1_all.deb ...\n",
            "Unpacking fonts-urw-base35 (20200910-1) ...\n",
            "Selecting previously unselected package libgs9-common.\n",
            "Preparing to unpack .../09-libgs9-common_9.55.0~dfsg1-0ubuntu5.6_all.deb ...\n",
            "Unpacking libgs9-common (9.55.0~dfsg1-0ubuntu5.6) ...\n",
            "Selecting previously unselected package libidn12:amd64.\n",
            "Preparing to unpack .../10-libidn12_1.38-4ubuntu1_amd64.deb ...\n",
            "Unpacking libidn12:amd64 (1.38-4ubuntu1) ...\n",
            "Selecting previously unselected package libijs-0.35:amd64.\n",
            "Preparing to unpack .../11-libijs-0.35_0.35-15build2_amd64.deb ...\n",
            "Unpacking libijs-0.35:amd64 (0.35-15build2) ...\n",
            "Selecting previously unselected package libjbig2dec0:amd64.\n",
            "Preparing to unpack .../12-libjbig2dec0_0.19-3build2_amd64.deb ...\n",
            "Unpacking libjbig2dec0:amd64 (0.19-3build2) ...\n",
            "Selecting previously unselected package libgs9:amd64.\n",
            "Preparing to unpack .../13-libgs9_9.55.0~dfsg1-0ubuntu5.6_amd64.deb ...\n",
            "Unpacking libgs9:amd64 (9.55.0~dfsg1-0ubuntu5.6) ...\n",
            "Selecting previously unselected package ghostscript.\n",
            "Preparing to unpack .../14-ghostscript_9.55.0~dfsg1-0ubuntu5.6_amd64.deb ...\n",
            "Unpacking ghostscript (9.55.0~dfsg1-0ubuntu5.6) ...\n",
            "Selecting previously unselected package gsfonts.\n",
            "Preparing to unpack .../15-gsfonts_1%3a8.11+urwcyr1.0.7~pre44-4.5_all.deb ...\n",
            "Unpacking gsfonts (1:8.11+urwcyr1.0.7~pre44-4.5) ...\n",
            "Selecting previously unselected package libdjvulibre-text.\n",
            "Preparing to unpack .../16-libdjvulibre-text_3.5.28-2build2_all.deb ...\n",
            "Unpacking libdjvulibre-text (3.5.28-2build2) ...\n",
            "Selecting previously unselected package libdjvulibre21:amd64.\n",
            "Preparing to unpack .../17-libdjvulibre21_3.5.28-2build2_amd64.deb ...\n",
            "Unpacking libdjvulibre21:amd64 (3.5.28-2build2) ...\n",
            "Selecting previously unselected package libjxr0:amd64.\n",
            "Preparing to unpack .../18-libjxr0_1.2~git20170615.f752187-5_amd64.deb ...\n",
            "Unpacking libjxr0:amd64 (1.2~git20170615.f752187-5) ...\n",
            "Selecting previously unselected package libjxr-tools.\n",
            "Preparing to unpack .../19-libjxr-tools_1.2~git20170615.f752187-5_amd64.deb ...\n",
            "Unpacking libjxr-tools (1.2~git20170615.f752187-5) ...\n",
            "Selecting previously unselected package libwmflite-0.2-7:amd64.\n",
            "Preparing to unpack .../20-libwmflite-0.2-7_0.2.12-5ubuntu1_amd64.deb ...\n",
            "Unpacking libwmflite-0.2-7:amd64 (0.2.12-5ubuntu1) ...\n",
            "Selecting previously unselected package libmagickcore-6.q16-6-extra:amd64.\n",
            "Preparing to unpack .../21-libmagickcore-6.q16-6-extra_8%3a6.9.11.60+dfsg-1.3ubuntu0.22.04.3_amd64.deb ...\n",
            "Unpacking libmagickcore-6.q16-6-extra:amd64 (8:6.9.11.60+dfsg-1.3ubuntu0.22.04.3) ...\n",
            "Selecting previously unselected package libv4lconvert0:amd64.\n",
            "Preparing to unpack .../22-libv4lconvert0_1.22.1-2build1_amd64.deb ...\n",
            "Unpacking libv4lconvert0:amd64 (1.22.1-2build1) ...\n",
            "Selecting previously unselected package libv4l-0:amd64.\n",
            "Preparing to unpack .../23-libv4l-0_1.22.1-2build1_amd64.deb ...\n",
            "Unpacking libv4l-0:amd64 (1.22.1-2build1) ...\n",
            "Selecting previously unselected package libzbar0:amd64.\n",
            "Preparing to unpack .../24-libzbar0_0.23.92-4build2_amd64.deb ...\n",
            "Unpacking libzbar0:amd64 (0.23.92-4build2) ...\n",
            "Setting up imagemagick-6-common (8:6.9.11.60+dfsg-1.3ubuntu0.22.04.3) ...\n",
            "Setting up fonts-noto-mono (20201225-1build1) ...\n",
            "Setting up libwmflite-0.2-7:amd64 (0.2.12-5ubuntu1) ...\n",
            "Setting up libijs-0.35:amd64 (0.35-15build2) ...\n",
            "Setting up libjxr0:amd64 (1.2~git20170615.f752187-5) ...\n",
            "Setting up fonts-urw-base35 (20200910-1) ...\n",
            "Setting up poppler-data (0.4.11-1) ...\n",
            "Setting up libjbig2dec0:amd64 (0.19-3build2) ...\n",
            "Setting up gsfonts (1:8.11+urwcyr1.0.7~pre44-4.5) ...\n",
            "Setting up libidn12:amd64 (1.38-4ubuntu1) ...\n",
            "Setting up libfftw3-double3:amd64 (3.3.8-2ubuntu8) ...\n",
            "Setting up liblqr-1-0:amd64 (0.4.2-2.1) ...\n",
            "Setting up libv4lconvert0:amd64 (1.22.1-2build1) ...\n",
            "Setting up fonts-droid-fallback (1:6.0.1r16-1.1build1) ...\n",
            "Setting up libdjvulibre-text (3.5.28-2build2) ...\n",
            "Setting up libgs9-common (9.55.0~dfsg1-0ubuntu5.6) ...\n",
            "Setting up libjxr-tools (1.2~git20170615.f752187-5) ...\n",
            "Setting up libgs9:amd64 (9.55.0~dfsg1-0ubuntu5.6) ...\n",
            "Setting up libdjvulibre21:amd64 (3.5.28-2build2) ...\n",
            "Setting up ghostscript (9.55.0~dfsg1-0ubuntu5.6) ...\n",
            "Setting up libv4l-0:amd64 (1.22.1-2build1) ...\n",
            "Setting up libmagickcore-6.q16-6:amd64 (8:6.9.11.60+dfsg-1.3ubuntu0.22.04.3) ...\n",
            "Setting up libmagickwand-6.q16-6:amd64 (8:6.9.11.60+dfsg-1.3ubuntu0.22.04.3) ...\n",
            "Setting up libmagickcore-6.q16-6-extra:amd64 (8:6.9.11.60+dfsg-1.3ubuntu0.22.04.3) ...\n",
            "Setting up libzbar0:amd64 (0.23.92-4build2) ...\n",
            "Processing triggers for man-db (2.10.2-1) ...\n",
            "Processing triggers for fontconfig (2.13.1-4.2ubuntu5) ...\n",
            "Processing triggers for libc-bin (2.35-0ubuntu3.4) ...\n",
            "/sbin/ldconfig.real: /usr/local/lib/libtbb.so.12 is not a symbolic link\n",
            "\n",
            "/sbin/ldconfig.real: /usr/local/lib/libtbbbind_2_5.so.3 is not a symbolic link\n",
            "\n",
            "/sbin/ldconfig.real: /usr/local/lib/libtbbbind.so.3 is not a symbolic link\n",
            "\n",
            "/sbin/ldconfig.real: /usr/local/lib/libtbbmalloc_proxy.so.2 is not a symbolic link\n",
            "\n",
            "/sbin/ldconfig.real: /usr/local/lib/libtbbmalloc.so.2 is not a symbolic link\n",
            "\n",
            "/sbin/ldconfig.real: /usr/local/lib/libtbbbind_2_0.so.3 is not a symbolic link\n",
            "\n",
            "Requirement already satisfied: opencv-python in /usr/local/lib/python3.10/dist-packages (4.8.0.76)\n",
            "Requirement already satisfied: numpy>=1.21.2 in /usr/local/lib/python3.10/dist-packages (from opencv-python) (1.25.2)\n",
            "Collecting pyzbar\n",
            "  Downloading pyzbar-0.1.9-py2.py3-none-any.whl (32 kB)\n",
            "Installing collected packages: pyzbar\n",
            "Successfully installed pyzbar-0.1.9\n"
          ]
        }
      ],
      "source": [
        "#Install libraries\n",
        "!apt update\n",
        "!apt install libzbar0\n",
        "!pip install opencv-python\n",
        "!pip install pyzbar"
      ]
    },
    {
      "cell_type": "code",
      "execution_count": null,
      "metadata": {
        "id": "EX-o58QHSndh"
      },
      "outputs": [],
      "source": [
        "#Import libraries\n",
        "import cv2\n",
        "from pyzbar.pyzbar import decode\n",
        "from google.colab.patches import cv2_imshow"
      ]
    },
    {
      "cell_type": "code",
      "execution_count": null,
      "metadata": {
        "colab": {
          "base_uri": "https://localhost:8080/"
        },
        "id": "YRm1k1D3b-Qa",
        "outputId": "01ba52dd-402c-4af5-b8b7-8c875c79441e"
      },
      "outputs": [
        {
          "output_type": "stream",
          "name": "stdout",
          "text": [
            "--2024-04-13 13:19:23--  https://raw.githubusercontent.com/nkmk/python-snippets/156110aaf3a38090a1d366c17803c23753bee342/notebook/data/src/qrcode.png\n",
            "Resolving raw.githubusercontent.com (raw.githubusercontent.com)... 185.199.108.133, 185.199.109.133, 185.199.110.133, ...\n",
            "Connecting to raw.githubusercontent.com (raw.githubusercontent.com)|185.199.108.133|:443... connected.\n",
            "HTTP request sent, awaiting response... 200 OK\n",
            "Length: 4206 (4.1K) [image/png]\n",
            "Saving to: ‘qrcode.png’\n",
            "\n",
            "\rqrcode.png            0%[                    ]       0  --.-KB/s               \rqrcode.png          100%[===================>]   4.11K  --.-KB/s    in 0s      \n",
            "\n",
            "2024-04-13 13:19:23 (40.7 MB/s) - ‘qrcode.png’ saved [4206/4206]\n",
            "\n",
            "Mounted at /content/drive\n",
            "/content/drive/MyDrive\n",
            "total 948476\n",
            "-rw------- 1 root root  34360028 Apr 11 04:47  2023Prueba.csv\n",
            "-rw------- 1 root root         0 Apr 11 04:41  2023Prueba.txt\n",
            "-rw------- 1 root root      5728 Apr 12 00:29  24943f97-f615-4fe9-bea0-3593383180ae.jpg\n",
            "-rw------- 1 root root     52000 Sep 30  2021  6073fba851fa45c1218570b1_El-futuro-de-los-programadores.jpeg\n",
            "drwx------ 2 root root      4096 Feb 11  2023 \u001b[0m\u001b[01;34m'ALGEBRA LINEAL'\u001b[0m/\n",
            "drwx------ 2 root root      4096 Feb 17  2021  \u001b[01;34mClassroom\u001b[0m/\n",
            "-rw------- 1 root root     35102 Apr 13 13:19 'Codigo QR.ipynb'\n",
            "drwx------ 2 root root      4096 Nov 12  2022 \u001b[01;34m'Colab Notebooks'\u001b[0m/\n",
            "-rw------- 1 root root       100 Sep 11  2020 'Copia de datos (1).txt'\n",
            "-rw------- 1 root root       100 Sep 12  2020 'Copia de datos.txt'\n",
            "drwx------ 2 root root      4096 Feb 11  2023  \u001b[01;34mDOCUMENTO\u001b[0m/\n",
            "-rw------- 1 root root   8143623 Aug 14  2022 'Documento de SAGC'\n",
            "-rw------- 1 root root       192 Sep 25  2023 'Documento sin título.gdoc'\n",
            "-rw------- 1 root root       192 May 21  2021 'Formulario sin título.gform'\n",
            "drwx------ 2 root root      4096 Mar 18  2022  \u001b[01;34mFrases\u001b[0m/\n",
            "-rw------- 1 root root     23299 Mar 26  2022 'Guamá Chunganá Santiago Andrés.docx'\n",
            "-rw------- 1 root root   3184828 Apr 23  2021  IMG_20210422_222228.jpg\n",
            "-rw------- 1 root root    242512 Jun 24  2021 'IMG_20210624_153437 (1).jpg'\n",
            "-rw------- 1 root root    242512 Jun 24  2021  IMG_20210624_153437.jpg\n",
            "-rw------- 1 root root     97794 Jun 24  2021 'IMG_20210624_153459 (1).jpg'\n",
            "-rw------- 1 root root     97794 Jun 24  2021  IMG_20210624_153459.jpg\n",
            "-rw------- 1 root root       192 May 19  2023 'Insecurity and Intolerance in Bogota: Solutions.gdoc'\n",
            "-rw------- 1 root root 203545150 Oct  1  2022  InShot_20220930_225853667.mp4\n",
            "-rw------- 1 root root     90463 Apr 10 23:46  qrcode_opencv.jpg\n",
            "-rw------- 1 root root      4206 Apr 13 02:48  qrcode.png\n",
            "-rw------- 1 root root       192 Feb 27 04:18 'RESEARCH, ANALYSIS, AND EXPERIMENTAL DEVELOPMENT OF RNX SOLID PROPELLANT FOR ROCKET ENGINES IN HUMID MOUNTAINOUS ENVIRONMENTS.gdoc'\n",
            "drwx------ 2 root root      4096 Feb  7  2023  \u001b[01;34mSAGC\u001b[0m/\n",
            "-rw------- 1 root root   1047692 Apr  7 04:41 'Simulación sistema solar.ipynb'\n",
            "-rw------- 1 root root 359906035 Jun  4  2022 'SPINLAUNCH (1).pptx'\n",
            "-rw------- 1 root root 359906035 Jun 15  2022  SPINLAUNCH.pptx\n",
            "-rw------- 1 root root     10294 Mar 10 00:26  SSLBM.cpp\n",
            "drwx------ 2 root root      4096 Mar 15  2022  \u001b[01;34mUdea\u001b[0m/\n",
            "-rw------- 1 root root     13767 Mar 10 02:13  Untitled0.ipynb\n",
            "-rw------- 1 root root    192150 Apr 11 05:19  Untitled1.ipynb\n",
            "-rw------- 1 root root       192 Mar 16 04:39  Volta.gdoc\n"
          ]
        }
      ],
      "source": [
        "#Load the file\n",
        "!wget -O qrcode.png \"https://raw.githubusercontent.com/nkmk/python-snippets/156110aaf3a38090a1d366c17803c23753bee342/notebook/data/src/qrcode.png\"\n",
        "\n",
        "from google.colab import drive\n",
        "drive.mount(\"/content/drive\")\n",
        "%cd /content/drive/MyDrive/\n",
        "%ls -l"
      ]
    },
    {
      "cell_type": "markdown",
      "metadata": {
        "id": "1P7CKsbFQ5LH"
      },
      "source": [
        "## Decode Img 1"
      ]
    },
    {
      "cell_type": "code",
      "execution_count": null,
      "metadata": {
        "colab": {
          "base_uri": "https://localhost:8080/",
          "height": 729
        },
        "id": "XhAKeOzbQa7v",
        "outputId": "7873cbbd-8097-4cdb-e11c-da8e74ecfe76"
      },
      "outputs": [
        {
          "output_type": "stream",
          "name": "stdout",
          "text": [
            "4.8.0\n",
            "True\n",
            "('', 'QR Code Two', 'QR Code One')\n",
            "<class 'numpy.ndarray'>\n",
            "[[[620.         40.       ]\n",
            "  [829.         40.       ]\n",
            "  [829.        249.       ]\n",
            "  [620.        249.       ]]\n",
            "\n",
            " [[290.9108    106.20954  ]\n",
            "  [472.8162      0.8958926]\n",
            "  [578.5836    184.1002   ]\n",
            "  [396.0495    287.81277  ]]\n",
            "\n",
            " [[ 40.         40.       ]\n",
            "  [249.         40.       ]\n",
            "  [249.        249.       ]\n",
            "  [ 40.        249.       ]]]\n",
            "(3, 4, 2)\n",
            "<class 'tuple'>\n",
            "<class 'numpy.ndarray'>\n",
            "(21, 21)\n"
          ]
        },
        {
          "output_type": "execute_result",
          "data": {
            "text/plain": [
              "array([[[255, 255, 255],\n",
              "        [255, 255, 255],\n",
              "        [255, 255, 255],\n",
              "        ...,\n",
              "        [255, 255, 255],\n",
              "        [255, 255, 255],\n",
              "        [255, 255, 255]],\n",
              "\n",
              "       [[255, 255, 255],\n",
              "        [255, 255, 255],\n",
              "        [255, 255, 255],\n",
              "        ...,\n",
              "        [255, 255, 255],\n",
              "        [255, 255, 255],\n",
              "        [255, 255, 255]],\n",
              "\n",
              "       [[255, 255, 255],\n",
              "        [255, 255, 255],\n",
              "        [255, 255, 255],\n",
              "        ...,\n",
              "        [255, 255, 255],\n",
              "        [255, 255, 255],\n",
              "        [255, 255, 255]],\n",
              "\n",
              "       ...,\n",
              "\n",
              "       [[255, 255, 255],\n",
              "        [255, 255, 255],\n",
              "        [255, 255, 255],\n",
              "        ...,\n",
              "        [255, 255, 255],\n",
              "        [255, 255, 255],\n",
              "        [255, 255, 255]],\n",
              "\n",
              "       [[255, 255, 255],\n",
              "        [255, 255, 255],\n",
              "        [255, 255, 255],\n",
              "        ...,\n",
              "        [255, 255, 255],\n",
              "        [255, 255, 255],\n",
              "        [255, 255, 255]],\n",
              "\n",
              "       [[255, 255, 255],\n",
              "        [255, 255, 255],\n",
              "        [255, 255, 255],\n",
              "        ...,\n",
              "        [255, 255, 255],\n",
              "        [255, 255, 255],\n",
              "        [255, 255, 255]]], dtype=uint8)"
            ],
            "text/html": [
              "<style>\n",
              "      .ndarray_repr .ndarray_raw_data {\n",
              "        display: none;\n",
              "      }\n",
              "      .ndarray_repr.show_array .ndarray_raw_data {\n",
              "        display: block;\n",
              "      }\n",
              "      .ndarray_repr.show_array .ndarray_image_preview {\n",
              "        display: none;\n",
              "      }\n",
              "      </style>\n",
              "      <div id=\"id-7712516c-abcf-4be9-ab27-2b60bbde46ce\" class=\"ndarray_repr\"><pre>ndarray (290, 870, 3) <button style=\"padding: 0 2px;\">show data</button></pre><img src=\"data:image/png;base64,iVBORw0KGgoAAAANSUhEUgAAA2YAAAEiCAIAAAAd4Vb6AAA5GUlEQVR4nO3df7QdVX338c+RcL3BGC0/UnlIgOgjAk2ElCRWZIFUfQThUQoo6pKHX7XVWrWSYp/Vhatdtrqs1rL8sbBL5ccjLgsFrNJqVaCAi7T0JiAIBUEa8CZKGwwSEvKDGzLPH+fcc+bOmR97Zu+Zveec92vdBSfnzuy9Z86P+d7vnr13J4oiAQCa1VFn+MlIfCEDCNQLfDcAAMZLR53UeFEZcSQAhGCe7wYAwLggIgTQXmQZAaB2OZnF4S3rbgwAVEDICAD1KogCh35J1AggQHRMA0BdTIPFjhj3AiBwhIwA4F7ZzOLw7oyeBhAUOqYBwLG8eLGTES/SFw0gbISMAOBMwTCXMnEhdzQCCAod0wDggGVPdG8b+qIBhIqQEQCsOAgWs0vmjkYAgaBjGgCqcxwvMuEOgFCRZQSAKupKLtI9DSBIhIwAUE59PdFZ1dE9DcA7OqYBoIQqE+iUrwMAQkPICABGHE6g0xVFprlD7mgE4B0hIwAUKA4Wq8aLmVEj42AABCa4exl37dIjj2hmRnv3StK+++rIIzU5WbDXE0/oF7/o7ZKw7746/HC99KXOW9pTrcEjj9OC0VDHbYvmyUUACEcnnC+vvXt1221697u1efOc5xcv1tVX6+ST9YKMlOgf/ZE+97m8kl/2Mr3lLfrwh7VsWWYhlRt84YWani7X4Jpcd53e+U597Ws699xG602o/DoCoXEeL2Z933Y6GWUNbc44GAC+hBIybtyolSuTQUbcokVav15LliSfv/RSfeITprUsXqy77tIhh1RsZFzlBtekGy92XX21zjuvoXoTQjstQDWNBYu98rJCRiWjRkJGAL4EkfDZu1dnnZUXZ0javFlnnZXy/Kmnlqho0yYdeaQ2bizXvGE2Da7J4YcPHi9d2ly9cQGeFqCs+m5btNkgVj93NALww/+9jBs3avlybd3a++fEhD77WR19tCYnNTOj++7TJZfoueckad06veQleuCBOTmqiYnB47/9Wy1fPqfw557Tzp266ip9+9u9QrZv1xe+oE9/2nGDly3TxIRRg2sS7+2d5+NVtXwdgRC4HRAtJ7ctMrM3gEBEvn30o5HU+1m2LNq2LbnBtm3RsmWDbS65ZM5vp6YGv1q7NrOWu+6KJid7my1ZEu3c6a3BNTE8D/UJ87QAhjR4b6b9NPLVml1W8sf54QNAIc8d0zt26Ioreo/nz9eNN2rBguQ2Cxboxhs1f37vn1deqR07Slf0mtfo4ot7jzdu1Fe+Uq29VRp8ww3atatidW3R2OsIOOe8J7r73VqhJZl7MeEOgAB4Dhkvv1xbtvQeX3yxjjgifbMjjtCaNb3HW7bo85+vUtdppw0eH3tslRJUpsEf+1jv8WOP6VvfSt9s1y79+Me6+26tW6d77y0RWTa/Y746XsdqTa3pADGSvNy2WBEhIgDfPIeMDz7Ye/DiF+tDH8rb8oMfHCSuHn64Sl3f/e7g8Y9+VKUElWnwmjU64wxJuukmnX128rd79+rWW3XYYTrmGK1cqdWrtWKFXvlK3Xpr+uySiR1f9arkjlNTBS3P2rGwRhNOXsfrrlOno2uu6TX1iCPKNbXWA8ToqWNMtH28aF4CiUYATfPUIR5FUfSrX0WHHNK7N+eCC4q3P//83sYHHxz96le9Jw3v4bvnnmj+/MG9jMN32tXR4N27oyiKZmaSz09PR4sWZd42tWhRND2dXmD+jjnnoXKNJpy8jtdeO2jPwoWZTV2+POV81n2AGDEh3LaY17y8mrijEYA3PrOM112nn/+899hkXpijj+49eOIJfe1rKRs89JDWrZvzs3atbrlF73qXVq/Wzp29zc45J+VOuzoa3B3NPTx+OX8mmpxpaAqnsMlSWOOyZdXnHnLyOsYnCXrmmcx9778//T7UWg8QI6MVPdHmBZJoBNAkn5PsrFgxeHziicXbn3DC4HHqzYi/+7vFhSxcqD/4g+LNUpVt8LCNG7VixeC2v/5MNPvsk5yG5oADdO+9g2loUndctkydzpwdu558sqDG/o5//MeamZGkZ56pPveQk9dxeEmYiQn99V/r1a9WFOmnP9UHPtBr6rp1ev/7B5s1cIAYASOy7h8T7gDwx2fIGF/vYN99i7ePp+v6j//930vUuHixbr+9+kzXZRs87OqrB8HNsmX6t38b5DtPOkkXXqjXvlYPPCBJTz2lK6/Un/2Z6Y7HHadHHuk9c9ddetvbjHY88UQdf3wv/3rddfr4x6ssA+3kdYyHuZJWrNAPfzho6utfrzvv7KUkv/c9Pf30YNHwBg4QbdfwUi4FjekUr7kVRVHeejDx0tRhPRgAzQhi9Rcbxx1XvM2BB+q883TfffrP/9QrXlF/m7I99ljvweSkvvGNZP/4ggX6xjcGMc3jj5fY8bOfHfwzviJOf8cXvlCXXprsu5+ZGSwzOD2tL3+5+qFZuuuuweMjj9Q99ySP8Td+o/fgiSd0zTWD59tygPAinAl0JHU6nW4gaBIOZtbChDsAPPG/+kuXyZjW1G3iKav46i8PPKDf//3e46OP1tVX27XPrDH5nn5aP/hB7/G73pVcqKZr+XK985291n7/+710msmOv/7rg8f9c/L00/qHf+g93r17EDxlqTz3UF/l1/HUU/UXf9F7/MlPpmwQ7/Lut7P5A0RbhNYTnQgTTXKN2WXRPQ3AA59ZxrvvHjy+7bbi7W+/ffB4/fqUDZYv1/HH935+7/f0J3/Se/6HP9TXv27R0FllG5xgOExkeHRI2fElfX/+53r66RLbb9hQYuM+J69jPPSPh799++yT8riZA0Tr1DHGxT65WKFS0ypINAKon8+Q8eyzdfDBvcf97sUcP/lJ78HLXqZ3v7t4+z/9Ux16aO/xuecm75aroGyDE+m0+DCR+BCQhOOPHzzuZsUMdxx2zjklNv7Up/Se95TYvq/u1zFHMweIFinuiS6pvmCxWhw5u3P1XQGgGp8h44EH6pRTeo+vv15PPZW38VNP6cYbe49POUUHHlhc/sKF+upXB//srztSWakG792rt79dnY6+853eM/fcM/jtnXdm7hj/1b33lthx2H33DR6/971auzb95447tGGD1qxJmQ/IRN2vY45mDhCtEOZti5ZINAIIh+fhL0cd1Xuwfbsuu2zOr77/fXU6Ou64Xp/sZZdp27bkXoXe9Cade27v8TXX6Oaba2xwwmc+o29+U5JOP13XXisZZ+OGk3Bl03h98R337Bn02id+TjxRS5dahVPmp6Xa65ilsQNEyEKbbdE8WCTRCKBNmpkxPMvWrdH++/eWMpg/P3r00d7zV101WOJg1aro0UcHa7cccEC0deughMLVXzZvHmxw6KFz9nXY4IR4g5cuHSw2c8EFvScnJ6MHH0zZ8cEHo8nJ3jbnnz94vnDH73wn/TwU7rhpU7RyZSRFN91kdgrSVDgtZV/HrA2aOUAEK6ilXGr6Es7ek/VgADTHc5Zx4UJddFHv8c6dOuMM7dolSSefPBjnsW6dli8frN1y/vlauLBEFQcdNJiTZXo6fTSufYPjdu3SGWcMGnzmmYP5Yl7+8sE273hHct/Ek/GRLoU7fuQjg3/+4z+W2PH003tjUN76Vl15ZfpRF6pwWsq+jlmaOUAEaCR7olNltooJdwA0yVesOvjLeMNSLdw6+DN5Yre+9D5NrdK/vlZH/0fyj+iXPK0NS+c8N7Vq8I+1x2cmG9548+AfU6uKVmnO/clq8NQq3fUaXf5+TezObPCGpdp/S8q+wzvuv6Xijor0zd+psuPhj+nxw/ycFpPXMWuDMgf4+OO+3u9wKf+t2Numqa/BZr6Hc3dOOXw0xupqwg8/lX78vdv91Dr3+HdPaNVU8Ul60XbNzEs+bRgyPvqKwT8Oe1y7J6xeMMMGr1yX0uCZecX7Vt4x9TxUrrHJ01I5ZCx5gF7e8HAo50VObukoXMtrjCNWdRWdB9TH9juTH36q/nh5w3vomE7pOpl4Tte/XYs2F+z57Iv0urXJJx/9n4PHjxyRue8r/lOX/mXv8c8O09+/w6itWUwavGizbjhb8/Ykn5+3p2Dfyjv2Jc5D5RrLsjktha9jzgZlDpCeu/bK74mutm5eFEZPNONg2ogvE3jk5+3XfJSaGTXvntAtb9CS6eQvlkzryIcG/1y6QZsOGfx+Zp6uOk+KdMWFBXmy3RN60w+kSP90moOMWn6Db35jQSIzdV+bHb/3Zn3lorzzULnGZk5L4etYuIHxATb/noel/Ldc3o41fAF6/CrO3rnEOYErLr82+eGn/E/z73mLRauqKgiNty/Qw6/Sjv20z/PaM0/zd+qoh7Rgu1ZPad2q3jZXXKQLYwMZ9szTvD29/+bbsZ/222G0pbmsBpfaN+o42NHkPFSusawKp6Ww/Y4OsFo6Cl7kf10UvpRWqzlXLbAyk5ZkNmBoV97ndSPLCL+a/4wHEDKafugOk74p/ab0Num7kruYz5H8M5l/pWn+VTBR69WxUVHiXyGebQyzjBd7hRS9jQ0/fc18HAobQ8gYjqrXstD5upb5KrlNfF/LWhQySpon7Zn9b3AIGcPl+2OGspwEi72iXCQaG/sskGhsEULGsvvmI2Qs5vta5nlexpL2xP4LYAQVjnEp+y1pFYSVKcQJxsEACFa7QkYAo8xtsDjY10XAF05XgHlLuNkOgEOEjAD8q2MCnXINCKbrikQjgDARMgLwyXlPdHo5JBoBwA4hIwA/mgkWS7SnVYnGzKiRhacB1GOe7wakC+ev+bhwrihxNq2yOc+8RrDhcEy0oSiK7N8eTgox0el4mM4CzoX5ItZ31fBVMteyZpBlBNCo0JKLcc6n/q4ViUYATSJkBNAQ78Gikwl3GsM4GABBIWQE0IS8RFenuRCHcTAAUA0hI4B65ScX+78ZkfSeUyQaAYSDkBFAXYqDRR9hTYsSjSa1kGgE0AxCRgDuVQsWRyS950IUReaxIONgADSAkBGAYwVxSQBBS+CJRpclB3C2AYwGQkYAzhSv+1cUwXhP7/V5mXCnVHKxWktINAKohpARgAOGE+i0a6xxk/Fr5WBRUqfTyWsqISIAFwJd/SVffd/j4VzPzNU3F78NXqOxUpBZLFtaUwufBLIejM3BVqu6o47H+dLR18bvyTau72Kjja9RfcgyAqiuuCd6+MnA0nv56m5JQ/FiKKcTQIsRMgKowmYpl3D+vPY4DqbGnmiTEogiAZREyAignGZmWxzhRKOfYJEJdwDYIWQEUIKrCXTGM9HoK7MY9SoO5ZwDaCNCRgBGSiUXnWTmGks0FoZxTibcaX6YS2G9JBoBmGvliGkATXI+NXc4nc7mbMZxhxMsRooIEwFUQ5YRQJ7Kty2mxjple1fDSTRWK8RvT7RRLUSQAMwQMgJIV2ECnWQJcyOeipMIWkeN9uOLq7UknOTinN9yRyOASuiYBpCUn3nqxxzms1i3Ykp5hzN7hxksZtbIzN4ADBAyNqS+We/beFsYgmUYLJYr00WasGwwNFypk0VlTAqx6YmutmPZSofvaCRqhCGb65HNOzzMtWHGDSEjgJ4K8WJOZq6NC3yZJBrrWM+w+cwi42AAlMW9jACslnJJ3yUWxzgJsJz0gDuZK8e55uPF9GYQQQLIRZYRGGuFE+iY9MPGg57Ae4ga6542LKfyvm5ulwz6tQIQFrKMwPgymUDHPKzJmdjFJO5sZj5tEw1Evc1MoFO2XhKNAHKQZQTGkdvZuU0imKzbBEtFP+HkCCsX4j+zOOfZZKKRcTAAspBlBMZLqXX/es/VNio/EQOFkyOsKdEYyG2LAFABISMwLioEi4NfuogaE2Nims/SeSzEV090vJD0Xwz/hUD3NIA0hIzAWHC+TnRl+QFQODlCk0JMokDvwWIxQkQABggZgRFnk1ycs6HrRGNlTsbBNDCYJrRg0bxAEo0AhjH8pSGs0YLmhZNZLKWx+bRrLaRlty0OjYMBnGMls7YjywiMIFeZxeR+TX2nt6t7OiG05GKifMMtSTQCSCBkBEZNrcnFcDIBAY6DCTlYjFeU/gvGwQDIRcc04M2uXXrkEc3MaO9eSdp3Xx15pCYnC/Z64gn94he9XRJW77tChz+ul2bs6SAAmJSOuPvucg2uwFVgatLHXbKQg6X/MfzH9rp1Wr16tbQq9twvpJ+bV2HZSDfongaQI2qcIs35Kd8qX2ejvn3bWHJ9rXJf79y3XH4JzXj++eiWW6JFixIfhmjx4uiWW6Lnn8/c8cMfTu6S/HnZE7rwCt33aj3/gvxPWUkvkN4g/axsg8sybs85UiSd66RA40LOKTj5yZ/z7auuSXaDQvy8hGk8r2X1lRzm8dq0yn29vj+bblZKLSXZ2ZGWAshvVWMTC5eqt742h1lym16jKPEvz4mUjRu1cqU2b87cYNEirV+vJUuSz196qT7xCeNqFm/SXb+lxaaJrr4oJTO3RFovLcraJavBpZR5z5wjXdt9dPXVOu88q5INvwM7nTdL3zdrXtyp0vds6q1J3jkJ7PMSrPG8luVr41WyTa+R788m9zICjdq7V2edlRcvStq8WWedlfL8qaeWqWnTYi1+SCoRx3X/jhx6+gXSjTnxorIbbKj8LYCP9x+df/5JhVtnfTVnHG+6mZnvS//HcONZF0m3WNabYHO7ZKINpjVyRyMASdzLCDRp40YtX66tW3v/nJjQZz+ro4/W5KRmZnTffbrkEj33nCStW6eXvEQPPDAndTcxESvrb9+n5ffPKf25Ce2cr6su0Lffpue6m75Y+qD0UZO2xWOIWKJxiXS/9JJ+HdIa6QHpudtvX1vYYBOVAqD4jZx7qs2VU3aXefMk/Z30Q+kwac/s00dJX519/D6p/4rMkzZKG2NbVqw3rqGxR9zRCCBVrd3eqcbz/g9fraqv5Ppa5b5e3/d/9H30o4N2LFsWbduW3GDbtmjZssE2l1wy57dTU7HDWHt8+u1zkvQaaefsv6elgvEpqU2d/eVfxYq+X1qQ2DG/wfks3gWrYq06vvBdkaiuRBOL25xsSdnzXLVeN2/j7LYG9KkJ1nhey+orOczjtWmV+3p9fyrpmAYasmOHrrii93j+fN14oxYsSG6zYIFuvFHz5/f+eeWV2rGjTB29JNS/S38z+9QS6b1Zm+d8N0VRJO0nXTT7xE7pTGn7nNo6nUSDb7hBu3YZNNNR72q8QJPN8r6L62RTb9a5qrd7mgl3AAxpZchYXwTtq831lRzm8YbZ5rpdfrm2bOk9vvhiHXFE+mZHHKE1a3qPt2zR5z/fe9xRZ7VWZ5aenJ37O7HH9w5vbnIyP/OZZ6UDZv/1N9JPsxr8sY/1Hj/2mL71rfTSdu3Sj3+sTmdlp7NaOrYw9xkzKb1aOk5aVWrHbo13361169TprChTY6ay70CbN212YN07IevW6d5702P0zqwK9c5+0lr8WWuLNn5PdnLVt68vbXyN6tPKkBFoowcf7D148Yv1oQ/lbfnBDw4SkA8/XG0pl7fEHq9I/M7w26rfYGmb9PnUbbpf9GvW6IwzJOmmm3T22clt9u7VrbfqsMN0zDGS1ktT0o+kn0pvKPoK6s7s87B039wdU0Ln+CWnW+OrXqVjjtHKlVq9Wt0db701fT7LUsy/67tbfve76nT0oQ/NqXrvXp15pjodnX568vmLL1ano07nd9KK7E91dJ+0fvVqrVihV75SieMqdfVNHE7O0ZFoBMZdfRF0ZmRtff+HL/WdydBeo5BblS+jrf7vyvrVr6JDDum14IILirc///zZ5h78C/3qpb3GT8XunFubc+fcCmlH7F7GQf93tQZLVxa+E3bvjqIomplJljM9nTL9ZOznv7PHdC+R/jt7x5Q7CE1qXLQomp42Pw3pYo1Mv5exv+W11w6q/tKXBiW8972D5y+6aPD8l78cb+27zU9I97hyXqDCw0n/VQCfnWCN57Usf19f6jteXzLa6vnzyIhpoAnXXaefz86QuHRp8fZHHz376ImD9bVz9aEvJLd43VHSzNynJqT50kXS2bHJEK7r3oCY+R1k0GDpsZwtuwOWu6O55w19oxTNKLRIujE1a1g4s09WS/Jr3LxZy5ZVGdkdF2UvKpM4zyedpIMP1hNPSNJPYx37++wzeNw/aZ1OR/qsdLEk6QnpX+aWnXdCNm/WoYeuMz6CgmZn6ahDhzUwtuiYBpqwItY5fOKJBRt31PnoCbEk4rH3pW31VWlq7s+d0s3SO2Px4jPS5Xl/s5o1WPph2d0lbdyoAw/UukEY85z0Qem3pddLH5aem31+lbRlbq5xyQEHRP3F9yYm9IUv6LbbdPvtmrtj10HxHTudLUM1njxbYy/CfuYZfWEoAu+yua1q7dq1w+f5ZS/Ta1/be3zHHb3BTDt2xE+L1q9Xp/OiTqcj7SedNPv0v0n/1T8u6Zex1QjNz2TvoLLa3D/YzAiYABHALEJGoAnxK/K++2Zv1r9tcV5sPr/+49WvKVPnRuk3o2hDmV1iLZkTQsxkbTa7cUrAcfXVg+E+y5Zp27YJ6YvSbdId0uelA6QHZrfdX7qwv+PHPz4d33HLFv3hH+r1r9dJJymKPicdID0Sq+e3Yo/Pi43XeUA6QPqidPtsjaulnd3fXXddyqgRm1sAc5x2Wu/B9LQ2bZKkTZs0PT3Y4O67n5QWS5IWS4fOPh0fwJR6XLdJd0TR57Ztm8g6k30Ox1xzRyMwtggZgVAUXIw7ku42KOaX0v+Tjtm9e0kUPeqkYWvXri3cZjj+eGy2N3tyUt/4xvCMQtuld0v9wO3w7v+iKDLYcU3sn/8ce/zy2Qe7pb+UjpJWxX727S8zOD2tL395TuMT7Xc4fvOEE3TQQZL05JO6805JuvNOPflk95fdQSsHSSd0t51Nmj4p3Zl2XLukd/fvNOiGrQsW6Mc/XjZ8JnOkZlLNE41EjcB4ImQEmjY8aDdlTPTe2Gfzdf0x0fGlRN4nvW725/djzz8YRedF0X1zloqxbnDZru2nn9YPftB7/K53aflyKSUzd38/hpPeLL00a8e4KOoOmunrn5OXSv1Rxi+Urh3quJ+SLujvduyxkt0MkVEUTU1NFW62eLEOnU0d/vM/D/4rKRbnnRr7r6RpadPs45dK/2v28d9J9w/fabB8uYbPZEK/A7rC8dI9DUCEjEAz7o7lB2+7bfA4cwKd218f+8fKtCLvl/519ufL0l/NPn/i179u2Vgpu8E54rGI8XCf/kQ+B0vnSvq1X3tfqXFCMX+eGipl2bChIJXoKtG43346+eTe46kpPfSQbrih3y39H7MPVktHxYYB3Sb153A/Rzpk9vFjWbH7pz99/uzD3pkcZjJtXv4Ggy1JNALjh5ARaMLZZ+vgg3uP+x2vedfd/3vk7KP/kr5hUMMn+6msc8/t93uaGo4VhhtclGic82USHz1zwgmDx0OF/GvscXeUz49Sd4zLyO1dl9u8OT71Kb3nPcWbuYoaTzlFBxwgSdPTW44++hLpRZKkLdLfS93bNl8knRZ7/nuxvQcn5F/+5eNZVRw/Z86l1PFSVkg0Agg0ZMyfI96X+o4ofyYkm1b5OiJfbI6oVgceqFNO6T2+/np1njogd3bu/aWzZv/xPemX+YVHURRFW7/61cEza9Zkb52oava8Jc5eosFPPZVfzAuk66Wo0zm9++977hn87s470/eRNHsPX9exkqTfLNxx9erUSXmOiT3+SqzXfs7PHXdowwatWaN580r3tlf26ldry5ZuZvEA6R2zY1melb4jPZv2/I9jexefkKFfHVu5qeYfIhKNJnx+G2ar73jzr2X17WvD96uRrr7jtRFoyAiMnqOO6j3Yvl267CNzfvf9N6sT6bi71TlEHUkfkV48+7uHcsqMf5m+6U06d7ZD8pprdPPNBe0p/GKKN/iyy3rVZWx7iXSmJOmfrr1Wysiq9tsc+9dwMvUG6YnUHYvaPNhRmhfrte/9RNHaKFp74olaujRl/sgs9t/dnU5n0aKO1M+M/sbsgynpoYzn41nivBPS95Of9B8apqXzGpz6PIlGYNzlx/V1MJkxv40Kjnrk9m0T3zPm987n1oXaf0uvEfN36NFX9Jp01fmx9k1JL4+t3fJLaWHsSOasNTJcxebNg+M89NBo69bsxmSdqpitW6P99++VNn9+9OijWfvGG7xBWtDd7IILevtOTkYPPpjagKOknbM7XhUr8MrUHWMbvCV1zZX+jtJO6ajY873j2rQpWrkykqKbbio+FannJGFqanDC167NP88Xzm75/OyDC3Ofjxsc1/CZjKLowQejycko7UxWlHW8w+vO5Jyckce1bDT2bRPfnz6yjEATOupo4TO66Irev3fO1xnf0q5JSTr5ttjyKqukB6T5s/+8WnomtcDUiW8OOkjXXNN7PD2tT34yrSW5ycX4rxYu1EUXzbZ3p844I2UuQ2lS+naswd+UtncLefnszDC7dukd7xjed1L6e2ly9p/xBNqGxI5z2zwpXRbb+H8P7xgvvH/N2LVLp5+u9esl6a1v1ZV5iyDOUS3ROHSe75zNHXa/dfvT6GQ9Hzc4ruEzOXR6s1ORZRqf+jwT7gBjrfkolb/MRmPfNvH6l9mc2jcs1cKtg39P7JbeJ62SXiv9R7KhelpKjBkeZBlTc1pdb3zjoJCpqVhLDM9WzIYN0cKFg9ImJqIvfambWlslvUZ6v7Q7tcHdfftJyvi+d90VXX55NDERP9Itc490qbQl9tv+WRquMYpNrJO+Y2qNhx8ePf54iTOTdapTs4wZZewnrY+1bb20X+7zcXOOq8yZrM70LT3GiUauZaOxb5v4/ugRMjpTcNQjt2+bhBMyRtLuCa2aGooOh3+2x9b9k9SdBTAlQBn26KODzQ47LNq9u/RLGS9t9+5o1arC1kbSuuEGz8yY7JvcUZI0TzI5S9HcjmmjHVeujGZmhl6mMuekL/GKFJXxxVgzvpj6/Ac+kFWIyQlJPZPVmb6lxzVqHJlrme8T2TTf59uC788dHdNAjVK67Sae07q3S5uLdn2RNOh67n7NPRpbzOWRR4Z36XnFK3Tppb3HP/uZXvjC9Fn6DE1M6PrrtWhR/labpbPnzjQuSfPmFe6bvqO0RzI5S5KOKLXjokW64YYSw1/6Uvtq46/I6153wfAGc8VnV59MfT6t67+r8IRknUn3GAcDjKnmo9SR+cssoeCoR27fNvH3l1lKJqhnQnqDND3062npodg/N2zaNChtZia66qpIiq64IiVPFrd7d/SmN3VLOK1a5mm4wFtuiZYsGT6eaemNc4OhZCGp+y5ZEt18c5S1Y+5ZmpbeLF0kRdKFGUeXsmO3xt27M16p8uck/opktyRuP+kfpUj6p37vcxRFzz4bnX56JEWnnRY9+2x+Y7JOSOZLkHMshpulnysSjSN0LfN9Ipvm+3xb8P2h6zR/+pJ5l1G5eTr/TObfQd/GfdskSvyr0fd87ht+gfQqaT/peWmetFN6SNouTUmrultccYUujI2g3bNH8+b1/ptXaacj7SftkOZVyzylvje2b9fDD2vHDu2zj/bs0UknrZ5tcHE5/X2jSPPn66ijeotHG7zN+mepEztF3ePKP7o5O27bNjW0XLVhA1IOJ7avSUv6JqVd3f/Gi9q1S5OTvf8aNCn1hFQ5BJNjz9x+6A0ybtnHkbmWtTuKKq/Flzav1zJJhIzOtDHsI2RsQErfdNF5ffzx6Mwzdc89+va39Za3lOtFdfiqmXw5FFbnpBCT8iu0pEK95tWVasmwOj59qfUanreUzQgZR+VaRsjYGoSM4/Ytk8omsEMh72+5UlFj9+U2zCYmS3X9VVj43iubpqpcSGHJVgmzkpXan+fmo8asGq1qGe+o0fsXC8aN97ccw1+A2pX6YHcv4d1IsdQiJV7+dHby90yFQro31lQrxOZcufr7rckXa/hcJX5bvejWJmsAVEDICPiQe5kuFU/UGiw6Kdl5tswmyrEJFhvO97exe4GZvYERRsgINKGmHoQQbsppMtGYv5nJb6u1tnJGM0cIr10XiUYAJggZAU+sE43NxByNJRrrCz1tEoTNJxe7HCaPGzv5veqIIoERRcgINCQl0Wh3mQ6n47KxwRxlC0kN+MwzmnXdAjgr9XDquNOg3r8uUgZ3ETUCI4iQEWhOhXEwIfCbI6xWiK/sYFnxc+trDFMX3dMA8hEyAl61JNEYzjgYJ/FrOAFuX93BYsPBKIlGYPQQMgKNcp5oDCeXFmAcZqPJkx9IRplEI4AchIyAb+4m3KlVuxKNhXwtwZJoQ5MhcmPnrVcdUSQwWvyv/pL6reJl3jWP6jve+pYTzBfWQoW+F1kaVmE9mIICG3nbB7WEYDMz3eTU4nbNwPBfQaO1c8L7rNXH/lrma92vRL3hpPa9aNN10PfniywjELpw/goK52ZEJ2xmMqp7jek62Ex+Wa3NJBqBUULICHjQ3gl3Gksi1lqIzdhky/UGs86PyZAdL7NLlpuoiAl3gNFFyAj40dIJd0yEPA6mQsDX376mYDG+TeV9berNaknFetv0VgVQAiEjEIxRSTQGW4hlYrLyvjYvjc1ahQ7rtSmcRCMwGub5bgAwviJF5lfTTqd4sFoURQ3kI01iBSctcXg4luXYJBfLbt+vq9aAL4dNA/q7ECYCo4eQEQhJlNevZxI11sr55NX2BRYW4qtPv76ALz+SbnK6CfMAt6POaI+eBsYBISPgU0qiMTdqLC6wnkRjtYRTM4nGrKixjcGize7Og0XDxHb682Uy6ABagXsZAc/CHwdTXxBT34Q7LY0XK9dSU3LRJF43rYUIEmg5QkYgPMGMg7EZq2s4vtj5OBibcc02Gl7KpV+XZb32kw1lTv099D4magRaLdCO6foGJ4ZZcn18rQ0z5ssJlOV8HIy9oFZgMuzjtv90Vysh8Km5LQ2/38zPEt3T9eH72RVf18EKJXv/NJFlBIJkt/C05diLujOLw3tVq85JIfHjrTDA2cvVtzPLvqhS7c+qlO5pYBwQMgJBCGQ9mKCSi3E1RWY2NwX6OlfNd2jkd0DnY6A0MDIIGYFQ+B0H03xy0b5eG5b12p+raunYxF7NJBpNDtZ8MW4SjUBLBXovIwCpoQl3fGXLbKa5tuFrRnRfmUWbSeDLdlvHtx8U2EmmzJmmEWgjQkYgIA2Pg2lLsBjf0dfCfQmlTn5OBs5+HqKcQuKrY1cI0IefMTz5YY4FBGCJjmkgbLXd0di6eLHJet0GlzX9Nn+zCku5pD4uJfMWhaHn6J4GWocsIxCWBhaebkXQFki9OWqd7ch5L7Zha23WKixqlu3fPwD8ImQEgudu4ek2Bm0BBot9TqLGzFsAyxfSsoHY3NEItAod00Bwappwp41xWxvrtWlGrTFfzgYlZue2CZHpiwbarIllJJJVJr42yn+JtHEVlnxhXlN9ley+VVHiX+1IbJT6pITZQ+o3aKtWe4V67YewWOo3oMIc78O72EypUyzlr6F2fB6HmXxCw1xnxeGdKm3UWJDg/gvQ97WMjmmgJewm3KmgvcFiv5zGMnz58ruMm1yrMH5ObMZxV8eEO0BrETICgfK48HTbg8Um63U1H3jZOxFT6zUpxNXclpXTsYyVBlqKexmB9mgkFzNK8aJJmc0cr8nKhE6GMTn5y6GO12KwkPfQ+5ggEmgFsoxAuFISjdnd0/aJxlEKFs3ZJMyqVeRxAnaHzM9bSnBcJoMOIBBkGYGgNbPwtK9Fom3qNa+icJuys3zbrF5TOPFhtZKdF+LqdTFsDBEkED5CRqBtnOaYfAWLTXIY/VgGx05aEs6kEDZjqxnyArQOISMQuvoSjSHPkt2wWg/HflxLWfaFGJbgctAViUYgbISMQAtZX6YDSS62K+6scMaGz3Njicb6es/LMk80EjUCISNkBFrAYaIxkGAxXqbbAofLbz5hJuvzbFJ+tcLz6602rKd6jXRPA+3hf/UX518Z9a0sEuaY0DBXcPEltc11v+WakZKAyX4F0s9DqN3QhdNc529TuK+TlpgX6yoFWGEpl2qNMSyqjio6nU5714OxX8ksn6/v9nFT33Xfeb3er2VkGYF2KLXw9PCXUcgT6GSV72qWbLd7NRnJNVCI/P0x3Ns3xL89AaQgZARao1r3tPcJdKolCBP1lprmuvlYc7QLSVX2fRXfOH9f7mgEwsRU3kCb5S48HXJmcbg6+2muG+tuc7I8o30hro63scW4M3ccWngaQIDIMgJt0szNK87jRcPuaZtprh3Gi+Gk93IKKZV2LdzGPAps5iZmEo1AgAgZgZZzGkPWt5SLk3HcqW3zMqO4x5sRKxyvw3ykk3LSih5+gqgRCAshI9AypcbBlCjW01Iu8WCxbERSX5sbSzSWGkxT62vkfw4E3/UDyEfICLSP2+7pxoLF4UmtK0+d4yvAjat1Pu1EIfVlf8u2xEk5hkg0AkEhZARGQtVLua9bALOCmMbiMCe1BDVXjn3hJBoB5CBkBFrJPtHo6xZAm6SX5e5lhTMOpoKaTlSthzNcOIlGIBz+V39p+AvB16S19a064ysx0KZVZ6LEv0ZkPo9S68HE+V3KpVoecXgvL53pqRpbD8ZQA5MrOf/aidfrfYkLQyFfy0q9QN7v8WhY4uRwLTPHvIxAW0WKkhet3Gka5e/akBjDUfhdGZ8p0NcfRQ7rNTlkJ9q4iFxxwK1OsFEjMFbomAbGha9bAE2eyVJ51h6TDVztG84djZVfYl+z9qTPmjQUINI9DYSAkBFoMcMJdxq+bbFfl2W9lrc8VivB4y2AXqJGX2PP8+slrQgEiI5poN1Suqfjvw21tzGnr7ZUDjKxcWOZxQoa6542ZPneqHw41eqlexrwjpARGDmR1PE5ULfXivINSOxSKijJmbXHyfCULG7Ps5PVq03Om6/MYomNc/8WAtA8OqaB1hvOvniPF00MB4iVayxcjbDyb/P5ugXQXvOd4PbHTgQJ+EXICIyg5i+uw7cAmgclObe1mXRwG9YyzOa2xfpuAaxvMe46mFRU+VwxDgYICiEjMAo8XlxzghgnwU1ONFl55LXHYNHJun+NzRbpRFB3cAKojJARGBFeBgfYDzdxMoTCyVqFFeqtyXALTZ5xUlGFWupdD4ZEIxAM/8Nfwrm5p1B904X4WhsmzOG0bVwLJ0y1DjI1PNWp4znKvkzx8Rw2WbpqO1rWm1qU+WTmlgGuzURFiZbYsCmkLeNggrqWBdWY0Lj9LLsqyqRk7x8EsozA6DAPEG16Zp3va1hawUx+ud/dNr3Jddy2aDhNY30Dd3IKqfD6NhygeL9wAuOJkBEYZcMX1+aDxX4HtH3Gq4J4wNeWaa4dKttln3qqm+kEz8GMjEAICBmBkZJ/71flQc1lNy67b84GpUZeV3jGvDS3nJTvMJizzGg2trxNrygSjUDjCBmBUZOakvHVE12qlvx6Sw3F8DWuOUC1TlRURznphTMOBvCNkBEYfTkX1zAHDNn0kBYGi+GEg95nT7SZqKgauqeB9iJkBEaQ24trY5FNZ5aX3RNF2RdSN7djepy8ynVPvZ58hkQj0CBCRmA8ZF+pvc+9V6qWrNaWCvICSTQ2OUNkfPs2TlTUq5oQEfCHkBEYTaUSjd6Tav2kV4WoYjizGH6i0SYbWt+EQfUlGm3anH+uSDQCjSFkBMaGXTxQU2auQjARn2W6ctKx4RG+8TK9BIuujqVsTtp9sEiICHjif/UX7+kNV+pbG8ZmX18r1vgS5oz5vqQsmxFlXnE7Lhb5KCsrI2UzKU+p2hv+/mmyJ7pavaVWpjEpzbBeG7WuclSiGa29loX5ZV6fxCvl69qdX296yb5fKLKMwCgLdhxMA0u5BNU97TG5WHmiIhtOZkHPLCEl89jWcA1oEUJGYMy0YRxMTu2Vl3LJKtC+kPrUcQtgUJG0RQs81w+MIUJGYMS1axxM3/AUMNVGxti3xFUneNntaxovYli7ze4OlZg2kigSqBkhIzB+AhgH42ROnHYlGs0rqrtJ4UTSJlLORuT/pi5gDPkf/gKgbuGPg0ll2YxSIVrhCssBRpY5JdjHc82PDTKVcXpCGAHTUqWGg9T3rvBVL8yRZQTGQoDjYOrr8HUy9iLBS/d0fdp1Ae6dN5KLgFeEjMC4shsHU1B2DUFbTl329Vq2NrS1Cuvusm/y9VX3PsXs2iJFpBiBBhAyAuOisUSj+aBmt7kuX7cAhrlWoZOTn5XErdim8jrq5IxrIVgEmkTICIwx1xPu2CzlYqPeWQCz+Vqr0FdG00NyMacxBItAswId/hLOHT9xYd7262vmehthrnYzDuobB5MzqLldt83l65+Tug8q6+SXzWi6GgfT8CdrZILFML+Rml6zxIzNd3t914X66q2wr/eZpAINGQG0gqtxMIFcWQ1jrMrDq91eUJ2cN5NCyCwCEB3TwLhJuejWOQ5GoSZashSuVWhSiJNlV8ou9JeqRSef2xaBwBEyAmMnwEtvM53XrhZ6rnC/ZuV68/ctzHfaJ02bQXIRCB8hI4AgEo21Bi6lgjaHaxVaBqnVdqxQr8eokeQi0BaEjMA4av4y7LGH1GZQs81ahfUNMsivpS3D2ggWgXZh+AsASfUuIWgYTDgfB9PGWwCHc5wmc+40M447pwGJlhRsTzc00EKEjMCYMp9wZ/QmcnISmzqfP8hmoqJmMppO6iVeBFqKkBEYXylRY2KDxoPFxjKaTriKGp3MG1ehJXW8vnlzDBEsAm3GvYwAYmJX7dFLLlbbMgQ2t1SWLdNEYRI3+Qy3LQLt18oso69VWEZPfcdb3woB4/Ya1S010egrWGy6hzSYKcQrtCR1tUbDk9DkeSazmINrWVx9Vw0brFUW18qQEUCNqn6PtShYdKLhevsRoeWVpvLupWftya1nzINFoI3omAbG3fDFu+xKpq6myC7Lpt5+CV7qrdwS+8VpqqVjS+9FvAiMHEJGAFZILjZTcgOdzjb1xlqQFy9y2yLQXnRMA0i5o7GjTuGlfTSCRfP7CEMIUp3cf2k6eyKZRQAxhIwAJIMJd+JGI1iMF1vYqsZWwY63pFqlzieMNKgy/5cEi8AooGMaQLq8WVEqhX2+blt00lfb8PDGnON1Mq23y5iSeBEYD4SMAHpqvboHPnFPONM0Wo6tcXggxaeO2xaBcULICCCTk0Sjx+Riv942JhpzpJ6TsufKZOPMQyZYBMYPISOAgVIT7hSGUCEEi6VqrFadZb3VJMbEVJ4tqPQ+BIvAuGL4SxAC6YcqJZyMC9wqNQ4mr5zAeqKdDArJKcTXJ6Lub4A5h8xtiwiSzcoxvlbdbCOyjAAKlE00tiu5mKjdpJb8epu8itjHi6YlkFwExh5ZRgBJlRONoWUWhzczGW5c6jbNyhXZaDQqVd7Sf0SKwPggZARQLGdm7254FHiwGN/eSfe0k90rtCRRtZPDyXr58v9sIFgExg0d0wBSuB0Hk8PXrOA5nCQIcxKQzsu0lzjkjjrEiwASyDICSOdqHEwWX8Gih8VRZuut3JKc4y0spLuv+SETLAJIRcgIwJTJwtNG5YSXWUxwspRzP5izD/gMK6qwb1+nk3fPoggWgbFHyAggk/NEYyDBYmOJRl/d0KUzmgSLAIpwLyOAEmwiyEDiRUONdV5nTVRUuZBy+zJ7DgAzZBkB5HGSaAwwWHQ+4Y4r9SUmUw6Z5CIAY4SMDfE1pNRGfW1u+mxw4XOq1B2NvoJFk2jP1ziYYR4mKiJYRCUB/vknf1dJG228lhEyAigwnGg0iRo9Bov9B/aXqGYSjTa1lDrPUVSQMyZYBJCFexkBFCsbSXiPFxuoy5Vum6udseR8irmF5M+2yG2LAPKRZQRQRVaiMahgMfBE43DAZ15R1nlmKRcANSFkBGCkcBxMUMFiqaqbvxHKpsay+xIsAnCCjmkAFcVjkWDjRZOGFTbAbUyZU5qTigZ3c9ITDcAdsowATKWOg7GZgaeZ5GJQ3dP2QaHR9EBkFgG4RpYRQAmuoo0oimzGCDvvSg5hHEyXg0NjAh0ANSBkBGCnZATiJVh02+Frw0lsmlkIS7kAqA0hI4BybMKOkOe0b1eiMdlagkUANWvlvYzhfLO7Eub6LvW1qo0z9SNPpMI7Gr0Hi+Hc0eh4rUK6oVurjdcym6tGfauC5avvSmdzRBWO137tVktkGQGUlhKI5KS4ArttMYdJO8PpniazCKBJhIwA6lX57kPnwaKTCXcaU7iUS85vCRYBOEfICKCKUonGsgK/KcJvopHZFgF4QcgIoCLz0KTUHIreb3UNNtFIsAjAI0JGAO5kRywmgWAzwWIgicZSJRAsAvCOkBFAdW4jlXDSe3W3pFzaldsWAQSAkBGAU3aJxmZ4TDSW63lnTDSAYBAyArDidhxMuxKN5TqXCRYBtBkhIwBbdYyDqVuTE+4QLAIYAYGu/hLOdcWV+ma9r2/m+nzhZIMKeZ8xfxwZrAeTuavB4ihOhLMezABLuYyWcbuW+SrZ5jPofWGqEiX7/gIgywjAAbeJxnD+IHHSEqNCSC4CCBshI4B6MA7GEMEigDYgZATgxjiPg6lYCMEigPYgZATgzKiOg3FSyJyoMTdYFLctAggPISOAOrUh0VgY8DmecKcoWCReBBAgQkYALrUx0WgSEbqJX+mJBtBaTqeHMKySGU/gFVfluqV8xjM+9M6nyy6r1BegzVhvFv0bPVzL4Ffz3xtkGQE41pYJd8qWXK0lHeUtEk1mEUBbEDICqF9gE+5EUVRTJJo4HJKLAEaGh5CRb0l4xNuvGcFOuGMTLJZbUZrk4qjjFYRHXt5+frKMfNLgBW+8JgU4DqaZlcEIFscHLyW88PXG8zD8BcCYCGccTEPLyDLVIoDRNc93AwCMrEiR4ajSTqeuP18bChZFvAhgxJFlBFAj80SjDMK7UjEcwSIAOMSIaQA18jUOprmeaKbmBjAe6JgGUK+Gu6e5bREA6kDICKBxUV73dMGuUZQV2IUQLIp4EcCIImQEULu6E43ctggAdeNeRgA+uLujkdsWAaABjJgG0JBkotFi6LSsb3zktkUAKIWQEUBD3E64U70ZBIsAUB4d0wAa4nbCnQo6nQ7xIgBUQ8gIoDkeF57mtkUAsMGIaQBeWUy4Y4jMIgDY415GAE1zOw4mryKCRQBwhI5pAL7VE48RLwKAQ2QZAXhgPnq6wncUwSIAOEfICMCPOrqnCRYBoCYMfwEQBrtxMASLAFAr7mUE4IfDCXeIFwGgbmQZAQSjfKKRYBEAmsG9jAB8qjwOhmARAJpElhFAyxAsAkDzuJcRgE/mC093I0XTeJFF/wDAKUJGAJ65X3ia5CIAuEbHNIDwVJ5wh2ARAOpByAjAv0hRyjiYkkXkl29VOACMPUJGAEEyTzQSLAJA/biXEUAQzMfBmG9DvAgArpBlBBCKct3TBIsA0CBCRgABS+2eJlgEgMYRMgIISEGikWARADzhXkYAYYuGHqRvRbwIADVijWkAwSk14Q7BIgA0gCwjgOAYRoGs+wcAjeFeRgDtQ6QIAA0jywggRDlBIfEiADSPLCOA1iBYBABfCBkBBKobIHaHwhAsAoBf/x/cCvjRkWNnwgAAAABJRU5ErkJggg==\" class=\"ndarray_image_preview\" /><pre class=\"ndarray_raw_data\">array([[[255, 255, 255],\n",
              "        [255, 255, 255],\n",
              "        [255, 255, 255],\n",
              "        ...,\n",
              "        [255, 255, 255],\n",
              "        [255, 255, 255],\n",
              "        [255, 255, 255]],\n",
              "\n",
              "       [[255, 255, 255],\n",
              "        [255, 255, 255],\n",
              "        [255, 255, 255],\n",
              "        ...,\n",
              "        [255, 255, 255],\n",
              "        [255, 255, 255],\n",
              "        [255, 255, 255]],\n",
              "\n",
              "       [[255, 255, 255],\n",
              "        [255, 255, 255],\n",
              "        [255, 255, 255],\n",
              "        ...,\n",
              "        [255, 255, 255],\n",
              "        [255, 255, 255],\n",
              "        [255, 255, 255]],\n",
              "\n",
              "       ...,\n",
              "\n",
              "       [[255, 255, 255],\n",
              "        [255, 255, 255],\n",
              "        [255, 255, 255],\n",
              "        ...,\n",
              "        [255, 255, 255],\n",
              "        [255, 255, 255],\n",
              "        [255, 255, 255]],\n",
              "\n",
              "       [[255, 255, 255],\n",
              "        [255, 255, 255],\n",
              "        [255, 255, 255],\n",
              "        ...,\n",
              "        [255, 255, 255],\n",
              "        [255, 255, 255],\n",
              "        [255, 255, 255]],\n",
              "\n",
              "       [[255, 255, 255],\n",
              "        [255, 255, 255],\n",
              "        [255, 255, 255],\n",
              "        ...,\n",
              "        [255, 255, 255],\n",
              "        [255, 255, 255],\n",
              "        [255, 255, 255]]], dtype=uint8)</pre></div><script>\n",
              "      (() => {\n",
              "      const titles = ['show data', 'hide data'];\n",
              "      let index = 0\n",
              "      document.querySelector('#id-7712516c-abcf-4be9-ab27-2b60bbde46ce button').onclick = (e) => {\n",
              "        document.querySelector('#id-7712516c-abcf-4be9-ab27-2b60bbde46ce').classList.toggle('show_array');\n",
              "        index = (++index) % 2;\n",
              "        document.querySelector('#id-7712516c-abcf-4be9-ab27-2b60bbde46ce button').textContent = titles[index];\n",
              "        e.preventDefault();\n",
              "        e.stopPropagation();\n",
              "      }\n",
              "      })();\n",
              "    </script>"
            ]
          },
          "metadata": {},
          "execution_count": 5
        }
      ],
      "source": [
        "print(cv2.__version__)\n",
        "\n",
        "img = cv2.imread('qrcode.png')\n",
        "\n",
        "qcd = cv2.QRCodeDetector()\n",
        "\n",
        "#Extract info of the file\n",
        "retval, decoded_info, points, straight_qrcode = qcd.detectAndDecodeMulti(img)\n",
        "\n",
        "print(retval)\n",
        "# True\n",
        "\n",
        "print(decoded_info)\n",
        "# Info qr code\n",
        "\n",
        "print(type(points))\n",
        "# <class 'numpy.ndarray'>\n",
        "\n",
        "print(points)\n",
        "\n",
        "print(points.shape)\n",
        "\n",
        "print(type(straight_qrcode))\n",
        "# <class 'tuple'>\n",
        "\n",
        "print(type(straight_qrcode[0]))\n",
        "# <class 'numpy.ndarray'>\n",
        "\n",
        "print(straight_qrcode[0].shape)\n",
        "\n",
        "img = cv2.polylines(img, points.astype(int), True, (0, 255, 0), 3)\n",
        "\n",
        "for s, p in zip(decoded_info, points):\n",
        "    img = cv2.putText(img, s, p[0].astype(int),\n",
        "                      cv2.FONT_HERSHEY_SIMPLEX, 1, (0, 0, 255), 2, cv2.LINE_AA)\n",
        "\n",
        "cv2.imwrite('qrcode_opencv.jpg', img) #Confirmation if read the qr code\n",
        "img\n",
        "# True"
      ]
    },
    {
      "cell_type": "markdown",
      "source": [
        "## Decode Img 2\n"
      ],
      "metadata": {
        "id": "S4wiXY8kjiGl"
      }
    },
    {
      "cell_type": "code",
      "execution_count": null,
      "metadata": {
        "colab": {
          "base_uri": "https://localhost:8080/",
          "height": 343
        },
        "id": "9bMwMP-WKQDa",
        "outputId": "490c06d2-d2df-4c93-ba46-75a0ca520b28"
      },
      "outputs": [
        {
          "name": "stdout",
          "output_type": "stream",
          "text": [
            "QR Code Data: QR Code Two\n",
            "QR Code Data: QR Code One\n"
          ]
        },
        {
          "data": {
            "image/png": "[encoded data removed]",
            "text/plain": [
              "<PIL.Image.Image image mode=RGB size=870x290>"
            ]
          },
          "metadata": {},
          "output_type": "display_data"
        }
      ],
      "source": [
        "def read_qr_code(image):\n",
        "    gray = cv2.cvtColor(image, cv2.COLOR_BGR2GRAY)\n",
        "\n",
        "    qr_codes = decode(gray)\n",
        "\n",
        "    if qr_codes:\n",
        "        for qr_code in qr_codes:\n",
        "\n",
        "            x, y, w, h = qr_code.rect\n",
        "\n",
        "            cv2.rectangle(image, (x, y), (x + w, y + h), (0, 255, 0), 2)\n",
        "\n",
        "            qr_data = qr_code.data.decode('utf-8')\n",
        "\n",
        "            print(\"QR Code Data:\", qr_data)\n",
        "\n",
        "    cv2_imshow(image)\n",
        "\n",
        "image_path = 'qrcode.png'\n",
        "image = cv2.imread(image_path)\n",
        "\n",
        "read_qr_code(image)\n"
      ]
    },
    {
      "cell_type": "markdown",
      "source": [
        "## Live cam (Not runs in Colab)"
      ],
      "metadata": {
        "id": "pS3mWPHMjzka"
      }
    },
    {
      "cell_type": "code",
      "execution_count": null,
      "metadata": {
        "colab": {
          "base_uri": "https://localhost:8080/",
          "height": 219
        },
        "id": "SMCkaiPpvdM7",
        "outputId": "e539f83e-b1d1-4b0c-84d3-b79a6b353311"
      },
      "outputs": [
        {
          "ename": "KeyboardInterrupt",
          "evalue": "",
          "output_type": "error",
          "traceback": [
            "\u001b[0;31m---------------------------------------------------------------------------\u001b[0m",
            "\u001b[0;31mKeyboardInterrupt\u001b[0m                         Traceback (most recent call last)",
            "\u001b[0;32m<ipython-input-5-1c9e364535fd>\u001b[0m in \u001b[0;36m<cell line: 10>\u001b[0;34m()\u001b[0m\n\u001b[1;32m     23\u001b[0m         \u001b[0mcv2\u001b[0m\u001b[0;34m.\u001b[0m\u001b[0mimshow\u001b[0m\u001b[0;34m(\u001b[0m\u001b[0mwindow_name\u001b[0m\u001b[0;34m,\u001b[0m \u001b[0mframe\u001b[0m\u001b[0;34m)\u001b[0m\u001b[0;34m\u001b[0m\u001b[0;34m\u001b[0m\u001b[0m\n\u001b[1;32m     24\u001b[0m \u001b[0;34m\u001b[0m\u001b[0m\n\u001b[0;32m---> 25\u001b[0;31m     \u001b[0;32mif\u001b[0m \u001b[0mcv2\u001b[0m\u001b[0;34m.\u001b[0m\u001b[0mwaitKey\u001b[0m\u001b[0;34m(\u001b[0m\u001b[0mdelay\u001b[0m\u001b[0;34m)\u001b[0m \u001b[0;34m&\u001b[0m \u001b[0;36m0xFF\u001b[0m \u001b[0;34m==\u001b[0m \u001b[0mord\u001b[0m\u001b[0;34m(\u001b[0m\u001b[0;34m'q'\u001b[0m\u001b[0;34m)\u001b[0m\u001b[0;34m:\u001b[0m\u001b[0;34m\u001b[0m\u001b[0;34m\u001b[0m\u001b[0m\n\u001b[0m\u001b[1;32m     26\u001b[0m         \u001b[0;32mbreak\u001b[0m\u001b[0;34m\u001b[0m\u001b[0;34m\u001b[0m\u001b[0m\n\u001b[1;32m     27\u001b[0m \u001b[0;34m\u001b[0m\u001b[0m\n",
            "\u001b[0;31mKeyboardInterrupt\u001b[0m: "
          ]
        }
      ],
      "source": [
        "import sys\n",
        "\n",
        "\n",
        "ruta_opencv = \"D:\\lenovo\\Downloads\\OpenCV_4.5.3\\opencv-4.5.3.zip\"\n",
        "\n",
        "#sys.path.append(ruta_opencv)\n",
        "\n",
        "sys.path.insert(0, ruta_opencv)\n",
        "\n",
        "\n",
        "import cv2\n",
        "\n",
        "print(sys.path)\n",
        "print(cv2.__version__)\n",
        "\n",
        "camera_id = 0\n",
        "delay = 1\n",
        "window_name = 'OpenCV QR Code'\n",
        "\n",
        "qcd = cv2.QRCodeDetector()\n",
        "cap = cv2.VideoCapture(camera_id)\n",
        "\n",
        "while True:\n",
        "    ret, frame = cap.read()\n",
        "\n",
        "    if ret:\n",
        "        ret_qr, decoded_info, points, _ = qcd.detectAndDecodeMulti(frame)\n",
        "\n",
        "        if ret_qr:\n",
        "            for s, p in zip(decoded_info, points):\n",
        "                if s:\n",
        "                    print(s)\n",
        "                    color = (0, 255, 0)\n",
        "                else:\n",
        "                    color = (0, 0, 200)\n",
        "                frame = cv2.polylines(frame, [p.astype(int)], True, color, 8)\n",
        "        cv2.imshow(window_name, frame)\n",
        "\n",
        "    if cv2.waitKey(delay) and 0xFF == ord('q'):\n",
        "\n",
        "        break\n",
        "\n",
        "cv2.destroyWindow(window_name)\n"
      ]
    }
  ],
  "metadata": {
    "colab": {
      "provenance": [],
      "include_colab_link": true
    },
    "kernelspec": {
      "display_name": "Python 3",
      "name": "python3"
    },
    "language_info": {
      "name": "python"
    }
  },
  "nbformat": 4,
  "nbformat_minor": 0
}