{
  "nbformat": 4,
  "nbformat_minor": 0,
  "metadata": {
    "colab": {
      "provenance": [],
      "include_colab_link": true
    },
    "kernelspec": {
      "name": "python3",
      "display_name": "Python 3"
    },
    "language_info": {
      "name": "python"
    }
  },
  "cells": [
    {
      "cell_type": "markdown",
      "metadata": {
        "id": "view-in-github",
        "colab_type": "text"
      },
      "source": [
        "<a href=\"https://colab.research.google.com/github/simonpatino/Kibo-RPC-Dadeus-proyect/blob/master/notApplication/workImages/5th_Kibo_rpc.ipynb\" target=\"_parent\"><img src=\"https://colab.research.google.com/assets/colab-badge.svg\" alt=\"Open In Colab\"/></a>"
      ]
    },
    {
      "cell_type": "markdown",
      "source": [
        "#Make a code to recognize one item of the Rulebook 5th edition"
      ],
      "metadata": {
        "id": "T0GEZpdt241k"
      }
    },
    {
      "cell_type": "markdown",
      "source": [
        "##Code to recognize level 1 of lost items display"
      ],
      "metadata": {
        "id": "_REHriJMI4xc"
      }
    },
    {
      "cell_type": "markdown",
      "source": [
        "#Dinosaurio"
      ],
      "metadata": {
        "id": "tnkDk792sQmD"
      }
    },
    {
      "cell_type": "code",
      "execution_count": null,
      "metadata": {
        "id": "SkRGmYRyQJ7S",
        "outputId": "3e06994b-5376-4c4d-d9e2-9b25a6456672",
        "colab": {
          "base_uri": "https://localhost:8080/"
        }
      },
      "outputs": [
        {
          "output_type": "stream",
          "name": "stdout",
          "text": [
            "Mounted at /content/drive\n"
          ]
        }
      ],
      "source": [
        "#Mount files from drive\n",
        "from google.colab import drive\n",
        "drive.mount('/content/drive')"
      ]
    },
    {
      "cell_type": "code",
      "source": [
        "#Import the libraries\n",
        "import cv2 as cv\n",
        "import matplotlib.pyplot as plt"
      ],
      "metadata": {
        "id": "tC6UnxgQU59H"
      },
      "execution_count": null,
      "outputs": []
    },
    {
      "cell_type": "code",
      "source": [
        "#Import the images for the example\n",
        "image1 = cv.imread('/content/drive/MyDrive/Kibo-rpc/Image.1.png')\n",
        "template1 = cv.imread('/content/drive/MyDrive/Kibo-rpc/Template.image.1.png')\n",
        "\n",
        "#Check if the images were loaded correctly\n",
        "if image1 is None:\n",
        "  print('Error; The image cannot be loaded')\n",
        "else:\n",
        "  print('Image 1 is loaded')\n",
        "if template1 is None:\n",
        "  print('Error; The image cannot be loaded')\n",
        "else:\n",
        "  print('Template 1 is loaded')\n",
        "\n",
        "#Get template dimensions\n",
        "w, h = template1.shape[:-1] #Width, Height, discarding the number of color channels"
      ],
      "metadata": {
        "id": "9i-_vfAtVLqU",
        "colab": {
          "base_uri": "https://localhost:8080/"
        },
        "outputId": "1db20b86-0983-4738-a6be-a1d1dcabb77d"
      },
      "execution_count": null,
      "outputs": [
        {
          "output_type": "stream",
          "name": "stdout",
          "text": [
            "Image 1 is loaded\n",
            "Template 1 is loaded\n"
          ]
        }
      ]
    },
    {
      "cell_type": "code",
      "source": [
        "#Make the template matching\n",
        "res = cv.matchTemplate(image1, template1, cv.TM_CCOEFF_NORMED) #The method used in this case is Normalized Cross-Correlation Coefficient\n",
        "\n",
        "#Find the best match\n",
        "\"\"\"\n",
        "cv.minMaxLoc(res) locates de the minimum and the maximum value in the result image,\n",
        "for the case of the method Normalized Cross-Correlation Coefficient,\n",
        "maximum value indicates the best match\n",
        "\n",
        "\"\"\"\n",
        "min_val, max_val, min_loc, max_loc = cv.minMaxLoc(res)"
      ],
      "metadata": {
        "id": "Ikl5-HMUaYYz"
      },
      "execution_count": null,
      "outputs": []
    },
    {
      "cell_type": "code",
      "source": [
        "#Draw a rectangle indicating the match\n",
        "cv.rectangle(image1, max_loc, (max_loc[0] + w, max_loc[1] + h), 225, 2)\n",
        "\n",
        "\"\"\"\n",
        "-image1: image on which the rectangle is to be drawn\n",
        "-max-loc: coordinates (x,y) of the top left point of the rectangle\n",
        "-max_loc[0] + w, max_loc[1] + h: coordinates (x,y) of the bottom right point of the rectangle\n",
        "-225: line color\n",
        "-2: line thickness\n",
        "\"\"\"\n",
        "#Plot the template image and the found object\n",
        "plt.imshow(image1)\n",
        "plt.title('Target Item'), plt.xticks([]), plt.yticks([])\n",
        "plt.show()\n",
        "plt.imshow(template1)\n",
        "plt.title('Lost Item'), plt.xticks([]), plt.yticks([])\n",
        "plt.show()"
      ],
      "metadata": {
        "id": "cfIZvWLrihDR",
        "outputId": "d96e01a7-3f4e-4860-d206-17864890f254",
        "colab": {
          "base_uri": "https://localhost:8080/",
          "height": 750
        }
      },
      "execution_count": null,
      "outputs": [
        {
          "output_type": "display_data",
          "data": {
            "text/plain": [
              "<Figure size 640x480 with 1 Axes>"
            ],
            "image/png": "[encoded data removed]"
          },
          "metadata": {}
        },
        {
          "output_type": "display_data",
          "data": {
            "text/plain": [
              "<Figure size 640x480 with 1 Axes>"
            ],
            "image/png": "[encoded data removed]"
          },
          "metadata": {}
        }
      ]
    }
  ]
}